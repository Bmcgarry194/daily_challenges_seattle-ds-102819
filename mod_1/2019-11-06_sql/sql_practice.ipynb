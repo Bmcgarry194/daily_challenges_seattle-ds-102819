{
 "cells": [
  {
   "cell_type": "markdown",
   "metadata": {},
   "source": [
    "# SQL and Relational Databases\n",
    "\n",
    "For this challenge, we have collected data from the [PokeAPI](https://pokeapi.co/docs/v2.html) and put it into SQL tables.  Specifically, a SQLite database located at `'../data/pokemon.db'`.  The database schema is:\n",
    "\n",
    "<img src=\"pokemon_db.png\" alt=\"db schema\" style=\"width:500px;\"/>\n",
    "\n",
    "Assign your SQL queries as strings to the variables `q1`, `q2`, etc. and run the cells to print your results as pandas dataframes.  *You do not need to change any of the Python code in this challenge, only the contents of the query strings.*\n",
    "\n",
    "Important note on syntax: use `\"double quotes\"` when quoting strings **within** your query and wrap the entire query in `'single quotes'` or `'''triple single quotes'''`."
   ]
  },
  {
   "cell_type": "code",
   "execution_count": null,
   "metadata": {},
   "outputs": [],
   "source": [
    "import pandas as pd\n",
    "import sqlite3"
   ]
  },
  {
   "cell_type": "code",
   "execution_count": null,
   "metadata": {},
   "outputs": [],
   "source": [
    "cnx = sqlite3.connect('../data/pokemon.db')"
   ]
  },
  {
   "cell_type": "code",
   "execution_count": null,
   "metadata": {},
   "outputs": [],
   "source": [
    "# Example query: select the first 5 types in the \"types\" table\n",
    "example_q = 'SELECT * FROM types LIMIT 5;'\n",
    "pd.read_sql(example_q, cnx)"
   ]
  },
  {
   "cell_type": "code",
   "execution_count": null,
   "metadata": {},
   "outputs": [],
   "source": [
    "# q1: Find all the pokemon on the \"pokemon\" table. Display all columns. \n",
    "q1 = ''\n",
    "pd.read_sql(q1, cnx)"
   ]
  },
  {
   "cell_type": "code",
   "execution_count": null,
   "metadata": {},
   "outputs": [],
   "source": [
    "# q2: Find all the rows from the \"pokemon_types\" table where the type_id is 3.\n",
    "q2 = ''\n",
    "pd.read_sql(q2, cnx)"
   ]
  },
  {
   "cell_type": "code",
   "execution_count": null,
   "metadata": {},
   "outputs": [],
   "source": [
    "# q3: Find all the rows from the \"pokemon_types\" table where the associated type is \"water\".\n",
    "# Do so without hard-coding the id of the \"water\" type, using only the name.\n",
    "q3 = ''\n",
    "pd.read_sql(q3, cnx)"
   ]
  },
  {
   "cell_type": "code",
   "execution_count": null,
   "metadata": {},
   "outputs": [],
   "source": [
    "# q4: Find the names of all pokemon that have the \"psychic\" type.\n",
    "q4 = ''\n",
    "pd.read_sql(q4, cnx)"
   ]
  },
  {
   "cell_type": "code",
   "execution_count": null,
   "metadata": {},
   "outputs": [],
   "source": [
    "# q5: Find the average weight for each type.\n",
    "# Order the results from highest weight to lowest weight.\n",
    "# Display the type name next to the average weight.\n",
    "q5 = ''\n",
    "pd.read_sql(q5, cnx)"
   ]
  },
  {
   "cell_type": "code",
   "execution_count": null,
   "metadata": {},
   "outputs": [],
   "source": [
    "# q6: Find the names and ids of all the pokemon that have more than 1 type. \n",
    "q6 = ''\n",
    "pd.read_sql(q6, cnx)"
   ]
  },
  {
   "cell_type": "code",
   "execution_count": null,
   "metadata": {},
   "outputs": [],
   "source": [
    "# q7: Find the id of the type that has the most pokemon.\n",
    "# Display type_id next to the number of pokemon having that type. \n",
    "q7 = ''\n",
    "pd.read_sql(q7, cnx)"
   ]
  }
 ],
 "metadata": {
  "kernelspec": {
   "display_name": "Python 3",
   "language": "python",
   "name": "python3"
  },
  "language_info": {
   "codemirror_mode": {
    "name": "ipython",
    "version": 3
   },
   "file_extension": ".py",
   "mimetype": "text/x-python",
   "name": "python",
   "nbconvert_exporter": "python",
   "pygments_lexer": "ipython3",
   "version": "3.7.3"
  }
 },
 "nbformat": 4,
 "nbformat_minor": 4
}
